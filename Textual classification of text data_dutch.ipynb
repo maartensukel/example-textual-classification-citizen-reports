{
 "cells": [
  {
   "cell_type": "markdown",
   "metadata": {},
   "source": [
    "# A simple textual classifier for Dutch citizen reports\n",
    "Example of a simple textual classification using TF-IDF and SGD. Optimal hyperparameters for the dataset are found using a gridsearch.\n",
    "\n",
    "An example dataset of dutch citizen reports is added for demonstration purposes."
   ]
  },
  {
   "cell_type": "code",
   "execution_count": 7,
   "metadata": {},
   "outputs": [
    {
     "name": "stdout",
     "output_type": "stream",
     "text": [
      "97 meldingen ingeladen\n"
     ]
    }
   ],
   "source": [
    "import pandas as pd\n",
    "\n",
    "df = pd.read_csv('voorbeeld_meldingen.csv')\n",
    "print(len(df),'meldingen ingeladen')\n",
    "\n",
    "texts = df['Tekst']\n",
    "labels = df['Label']\n",
    "\n",
    "split = 0.5\n",
    "splitpoint = int(split*len(texts))\n",
    "\n",
    "\n",
    "# train data\n",
    "train_texts = texts[:splitpoint]\n",
    "train_labels = labels[:splitpoint]\n",
    "\n",
    "# test data\n",
    "test_texts = texts[splitpoint:]\n",
    "test_labels = labels[splitpoint:]"
   ]
  },
  {
   "cell_type": "code",
   "execution_count": 8,
   "metadata": {},
   "outputs": [
    {
     "name": "stdout",
     "output_type": "stream",
     "text": [
      "Best parameters: \n",
      "{'clf__alpha': 1e-05, 'clf__loss': 'log', 'clf__max_iter': 10, 'clf__penalty': 'elasticnet', 'vect__max_df': 0.5, 'vect__max_features': None, 'vect__ngram_range': (1, 1), 'vect__norm': 'l2', 'vect__use_idf': True}\n",
      "\n",
      "Best score: \n",
      "0.75\n",
      "\n"
     ]
    }
   ],
   "source": [
    "from sklearn.model_selection import GridSearchCV\n",
    "from sklearn.pipeline import Pipeline\n",
    "from sklearn.feature_extraction.text import TfidfVectorizer\n",
    "from sklearn.linear_model import SGDClassifier\n",
    "\n",
    "# pipeline of classifier\n",
    "pipeline = Pipeline([\n",
    "    ('vect', TfidfVectorizer()),\n",
    "    ('clf', SGDClassifier()),\n",
    "])\n",
    "\n",
    "# possible parameters to do gridsearch on\n",
    "parameters = {\n",
    "    'vect__max_df': (0.5, 0.75, 1.0),\n",
    "    'vect__max_features': (None, 5000,),\n",
    "    'vect__ngram_range': ((1, 1), (1, 2)),\n",
    "    'vect__use_idf': (True, False),\n",
    "    'vect__norm': ('l1', 'l2'),\n",
    "    'clf__alpha': (0.00001, 0.000001),\n",
    "    'clf__penalty': ('l2', 'elasticnet'),\n",
    "    'clf__max_iter': (10, 50, 80,100,150),\n",
    "    'clf__loss':('log',)\n",
    "}\n",
    "\n",
    "grid_search = GridSearchCV(pipeline, parameters)\n",
    "grid_search.fit(train_texts, train_labels)\n",
    "\n",
    "print('Best parameters: ')\n",
    "print(grid_search.best_params_)\n",
    "print('')\n",
    "\n",
    "print('Best score: ')\n",
    "print(grid_search.best_score_)\n",
    "print('')"
   ]
  },
  {
   "cell_type": "markdown",
   "metadata": {},
   "source": [
    "# Model persistence\n",
    "http://scikit-learn.org/stable/modules/model_persistence.html"
   ]
  },
  {
   "cell_type": "code",
   "execution_count": 10,
   "metadata": {},
   "outputs": [],
   "source": [
    "from sklearn.externals import joblib\n",
    "joblib.dump(grid_search, 'model.pkl') \n",
    "\n",
    "model = joblib.load('model.pkl') "
   ]
  },
  {
   "cell_type": "markdown",
   "metadata": {},
   "source": [
    "# Evaluation"
   ]
  },
  {
   "cell_type": "code",
   "execution_count": 11,
   "metadata": {},
   "outputs": [
    {
     "name": "stdout",
     "output_type": "stream",
     "text": [
      "Precision 0.18\n",
      "Recall 0.24\n",
      "Accuracy 0.71\n"
     ]
    },
    {
     "name": "stderr",
     "output_type": "stream",
     "text": [
      "/home/maarten/anaconda3/lib/python3.6/site-packages/sklearn/metrics/classification.py:1135: UndefinedMetricWarning: Precision is ill-defined and being set to 0.0 in labels with no predicted samples.\n",
      "  'precision', 'predicted', average, warn_for)\n"
     ]
    }
   ],
   "source": [
    "from sklearn.metrics import precision_score\n",
    "from sklearn.metrics import recall_score\n",
    "from sklearn.metrics import accuracy_score\n",
    "\n",
    "test_predict = model.predict(test_texts)\n",
    "\n",
    "precision = str(round(precision_score(test_labels, test_predict, average='macro'),2))\n",
    "recall = str(round(recall_score(test_labels, test_predict, average='macro'),2))\n",
    "accuracy = str(round(accuracy_score(test_labels, test_predict),2))\n",
    "\n",
    "print('Precision',precision )\n",
    "print('Recall',recall )\n",
    "print('Accuracy',accuracy )"
   ]
  }
 ],
 "metadata": {
  "anaconda-cloud": {},
  "kernelspec": {
   "display_name": "Python 3",
   "language": "python",
   "name": "python3"
  },
  "language_info": {
   "codemirror_mode": {
    "name": "ipython",
    "version": 3
   },
   "file_extension": ".py",
   "mimetype": "text/x-python",
   "name": "python",
   "nbconvert_exporter": "python",
   "pygments_lexer": "ipython3",
   "version": "3.6.5"
  }
 },
 "nbformat": 4,
 "nbformat_minor": 2
}
